{
 "cells": [
  {
   "cell_type": "markdown",
   "metadata": {
    "toc": "true"
   },
   "source": [
    "# Table of Contents\n",
    " <p><div class=\"lev1 toc-item\"><a href=\"#Preamble\" data-toc-modified-id=\"Preamble-1\"><span class=\"toc-item-num\">1&nbsp;&nbsp;</span>Preamble</a></div><div class=\"lev1 toc-item\"><a href=\"#Input-CSV\" data-toc-modified-id=\"Input-CSV-2\"><span class=\"toc-item-num\">2&nbsp;&nbsp;</span>Input CSV</a></div><div class=\"lev1 toc-item\"><a href=\"#Modify-CSV\" data-toc-modified-id=\"Modify-CSV-3\"><span class=\"toc-item-num\">3&nbsp;&nbsp;</span>Modify CSV</a></div><div class=\"lev1 toc-item\"><a href=\"#Data-Scrub:-Repacking\" data-toc-modified-id=\"Data-Scrub:-Repacking-4\"><span class=\"toc-item-num\">4&nbsp;&nbsp;</span>Data Scrub: Repacking</a></div><div class=\"lev2 toc-item\"><a href=\"#Unique-row-components\" data-toc-modified-id=\"Unique-row-components-4.1\"><span class=\"toc-item-num\">4.1&nbsp;&nbsp;</span>Unique row components</a></div><div class=\"lev2 toc-item\"><a href=\"#Helper-Functions\" data-toc-modified-id=\"Helper-Functions-4.2\"><span class=\"toc-item-num\">4.2&nbsp;&nbsp;</span>Helper Functions</a></div><div class=\"lev2 toc-item\"><a href=\"#Data-Structure-Creation\" data-toc-modified-id=\"Data-Structure-Creation-4.3\"><span class=\"toc-item-num\">4.3&nbsp;&nbsp;</span>Data Structure Creation</a></div><div class=\"lev3 toc-item\"><a href=\"#Functional-Data-Structure\" data-toc-modified-id=\"Functional-Data-Structure-4.3.1\"><span class=\"toc-item-num\">4.3.1&nbsp;&nbsp;</span>Functional Data Structure</a></div><div class=\"lev4 toc-item\"><a href=\"#EEG\" data-toc-modified-id=\"EEG-4.3.1.1\"><span class=\"toc-item-num\">4.3.1.1&nbsp;&nbsp;</span>EEG</a></div><div class=\"lev4 toc-item\"><a href=\"#Behavior\" data-toc-modified-id=\"Behavior-4.3.1.2\"><span class=\"toc-item-num\">4.3.1.2&nbsp;&nbsp;</span>Behavior</a></div><div class=\"lev4 toc-item\"><a href=\"#Description\" data-toc-modified-id=\"Description-4.3.1.3\"><span class=\"toc-item-num\">4.3.1.3&nbsp;&nbsp;</span>Description</a></div><div class=\"lev1 toc-item\"><a href=\"#Saving-Data\" data-toc-modified-id=\"Saving-Data-5\"><span class=\"toc-item-num\">5&nbsp;&nbsp;</span>Saving Data</a></div><div class=\"lev2 toc-item\"><a href=\"#Matlab-Native\" data-toc-modified-id=\"Matlab-Native-5.1\"><span class=\"toc-item-num\">5.1&nbsp;&nbsp;</span>Matlab Native</a></div><div class=\"lev2 toc-item\"><a href=\"#Python-Native\" data-toc-modified-id=\"Python-Native-5.2\"><span class=\"toc-item-num\">5.2&nbsp;&nbsp;</span>Python Native</a></div><div class=\"lev3 toc-item\"><a href=\"#Data-Frame\" data-toc-modified-id=\"Data-Frame-5.2.1\"><span class=\"toc-item-num\">5.2.1&nbsp;&nbsp;</span>Data Frame</a></div><div class=\"lev3 toc-item\"><a href=\"#EEG-/-Behavior-Dictionaries\" data-toc-modified-id=\"EEG-/-Behavior-Dictionaries-5.2.2\"><span class=\"toc-item-num\">5.2.2&nbsp;&nbsp;</span>EEG / Behavior Dictionaries</a></div>"
   ]
  },
  {
   "cell_type": "markdown",
   "metadata": {
    "nbpresent": {
     "id": "f161424d-402a-4cd8-9a37-7a9f17ec4ca3"
    }
   },
   "source": [
    "**MUSE CSV SCRUB**\n",
    "\n",
    " Author | Ryan Y. \n",
    "--------|--------\n",
    " Point |  Carves up the huge Muse CSV file to separate data for the different submodules, then saves it into several data types usesable by python and matlab. For one, the entire data set is put into an easy but space expensive data frame format (saved), and into less expensive array formats stored into specific keys dictionaries. These dictionaries are sort of like matlab structs, who store specific things about the eeg signals and behavior in their fields. |\n",
    "Inputs | File path to a Muse CSV File, <a href=\"#csvinput\">type into widget below</a>|\n",
    "Outputs| A functional structure and sampling rate structures in formats readable by python and matlab |"
   ]
  },
  {
   "cell_type": "markdown",
   "metadata": {
    "nbpresent": {
     "id": "d142df09-d05f-48e2-bd94-8e1afc16275c"
    }
   },
   "source": [
    "# Preamble"
   ]
  },
  {
   "cell_type": "code",
   "execution_count": 42,
   "metadata": {
    "code_folding": [],
    "collapsed": false,
    "init_cell": true
   },
   "outputs": [
    {
     "name": "stdout",
     "output_type": "stream",
     "text": [
      "Populating the interactive namespace from numpy and matplotlib\n",
      "line_width has been deprecated, use display.width instead (currently both are\n",
      "identical)\n",
      "\n"
     ]
    },
    {
     "name": "stderr",
     "output_type": "stream",
     "text": [
      "WARNING: pylab import has clobbered these variables: ['number', 'fft']\n",
      "`%matplotlib` prevents importing * from pylab and numpy\n",
      "/Users/ryoung/anaconda3/lib/python3.5/site-packages/IPython/core/interactiveshell.py:2885: FutureWarning: \n",
      "mpl_style had been deprecated and will be removed in a future version.\n",
      "Use `matplotlib.pyplot.style.use` instead.\n",
      "\n",
      "  exec(code_obj, self.user_global_ns, self.user_ns)\n"
     ]
    }
   ],
   "source": [
    "# --- FLAGS AND BASIC SETTINGS --------------\n",
    "# Plot options\n",
    "# Whether to generate plots during scrub restructuring\n",
    "plot_data_aspects = True\n",
    "# \"Inline\" docked or \"qt\" floating\n",
    "%matplotlib inline \n",
    "# \"Inline\" docked or \"qt\" floating\n",
    "%pylab inline\n",
    "# Default figure size\n",
    "pylab.rcParams['figure.figsize'] = (14, 10)\n",
    "# Save options\n",
    "# Whether to save pandas dataframe deriving dict/structs from\n",
    "save_data_frame = False \n",
    "# Timestamp handling\n",
    "# Whether to set first timestamp to 0\n",
    "global timestamp_zerod\n",
    "timestamp_zerod = True\n",
    "# --------------------------------------------\n",
    "    \n",
    "# -----MODULES ----\n",
    "#Debugging\n",
    "import pdb\n",
    "\n",
    "# save tool\n",
    "import pickle\n",
    "\n",
    "# Input/Output\n",
    "import scipy.io\n",
    "import pandas\n",
    "import numpy as np\n",
    "import matplotlib.pyplot as plt\n",
    "\n",
    "# For prepending a header to the csv file\n",
    "import fileinput\n",
    "# Regular expression ans string manipulation\n",
    "import re\n",
    "# For navving/manipulating file system\n",
    "import os\n",
    "\n",
    "# Widgets\n",
    "import progressbar as pb\n",
    "from ipywidgets import widgets\n",
    "from IPython.display import Javascript, display\n",
    "# -----------------\n",
    "\n",
    "# -----------------\n",
    "# Pandas options\n",
    "pandas.set_option('display.mpl_style', 'default') \n",
    "pandas.set_option('display.line_width', 5000) \n",
    "pandas.set_option('display.max_columns', 60)\n",
    "pandas.set_option('display.max_rows',10)\n",
    "# -----------------\n",
    "\n",
    "# ---INPUT WIDGET ---\n",
    "cfile = widgets.Text(\n",
    "    '/Users/ryoung/Documents/LabRotations/Sekuler/Data/outputPilot1.csv',\n",
    "    description='Please provide CSV File:',\n",
    "    border_radius='3px',\n",
    "    color='darkred',\n",
    "    font_size='10px',\n",
    "    padding='1em',\n",
    "    font_family='verdana',\n",
    "    width='10000%'\n",
    ")"
   ]
  },
  {
   "cell_type": "markdown",
   "metadata": {},
   "source": [
    "# Input CSV\n",
    "<a id=\"csvinput\"></a>"
   ]
  },
  {
   "cell_type": "code",
   "execution_count": 30,
   "metadata": {
    "collapsed": false,
    "init_cell": true,
    "nbpresent": {
     "id": "9850744f-b57a-45b8-9ca4-84e666304cc9"
    }
   },
   "outputs": [],
   "source": [
    "display(cfile)"
   ]
  },
  {
   "cell_type": "markdown",
   "metadata": {
    "nbpresent": {
     "id": "b8bebee6-68b2-4a98-89d3-37539d7fb44a"
    }
   },
   "source": [
    "# Modify CSV\n",
    "This step accomplishes two things. For one, it actually reduces the size of the csv by killing the spaces. Commas are the delimiters, so it has no effect expect to reduce file size. Second, our csvfile needs header names in the first row, to build a data frame."
   ]
  },
  {
   "cell_type": "code",
   "execution_count": 31,
   "metadata": {
    "code_folding": [],
    "collapsed": false,
    "nbpresent": {
     "id": "70817883-25a3-4ad9-abd0-4716db030dd3"
    }
   },
   "outputs": [
    {
     "name": "stdout",
     "output_type": "stream",
     "text": [
      "Number of columns = 131\n",
      "\n",
      "\n",
      "Header is good\n"
     ]
    }
   ],
   "source": [
    "# OPEN FILE AND FIGURE OUT HOW MANY COLUMNS EXIST\n",
    "with open(cfile.value,mode='r+') as file:\n",
    "    \n",
    "    def columnCount(line):\n",
    "        l = line.split(',')\n",
    "        return len(l)\n",
    "    \n",
    "    # Count columns\n",
    "    nColumns = 0\n",
    "    for line in file:\n",
    "        curr_length = columnCount(line)\n",
    "        #print(\"curr-> %d, max->%d\" % (curr_length,nColumns))\n",
    "        if curr_length > nColumns:\n",
    "            nColumns = curr_length\n",
    "    print(\"Number of columns = %d\\n\\n\" % (nColumns))\n",
    "    \n",
    "    file.seek(0)\n",
    "    lineone = file.readline()\n",
    "    lineone = lineone.split(',')\n",
    "\n",
    "if lineone[0] != \"Timestamps\":\n",
    "    \n",
    "    print('Fixing header with first line element %s\\n\\n' \\\n",
    "          % (lineone[0]))\n",
    "    \n",
    "    # Construct individual cxolumn headers\n",
    "    column_names = ['Timestamps', 'Submod']\n",
    "    nColumns-=2\n",
    "    for c in range(int(nColumns)):\n",
    "        column_names.append(str(c))\n",
    "    print(\"List of elements to place atop ==> %s\\n\\n\" % str(column_names))\n",
    "\n",
    "    # Contruct the line to append\n",
    "    header_string_to_write = \"\";\n",
    "    for c in column_names:\n",
    "        header_string_to_write += c + \",\"\n",
    "    header_string_to_write = header_string_to_write[0:-1]\n",
    "    \n",
    "    # Prepend header to csv and kill any spaces (makes the file smaller and saves us pain below)\n",
    "    for linenum,line in enumerate( fileinput.FileInput(cfile.value,inplace=1) ):\n",
    "        if linenum is 0:\n",
    "            print(header_string_to_write)\n",
    "            print(line.rstrip())\n",
    "        else:\n",
    "            print( \n",
    "            re.sub(r'[\\s]*',\"\", line.rstrip()) \n",
    "            )\n",
    "    fileinput.close()\n",
    "else:\n",
    "    print('Header is good')\n",
    "\n",
    "del(nColumns)"
   ]
  },
  {
   "cell_type": "markdown",
   "metadata": {
    "nbpresent": {
     "id": "44224320-8706-4618-8207-a6a57a6e0df0"
    }
   },
   "source": [
    "***"
   ]
  },
  {
   "cell_type": "markdown",
   "metadata": {
    "nbpresent": {
     "id": "43f6252a-b007-4a78-8504-d75397a62f89"
    }
   },
   "source": [
    "# Data Scrub: Repacking\n",
    "\n",
    "Below, a csv file is read in as a data frame. It's a flexible convenient object that will allow practically any data type encountered across csv rows with various amounts of columns. Subsequently, from the `pandas.DataFrame` object, we extract all the data into a nicer dictionary structure.\n"
   ]
  },
  {
   "cell_type": "code",
   "execution_count": 32,
   "metadata": {
    "code_folding": [
     2
    ],
    "collapsed": false,
    "nbpresent": {
     "id": "3dd1f519-093d-4d01-b10f-7a5e6c1c7a6c"
    }
   },
   "outputs": [
    {
     "name": "stderr",
     "output_type": "stream",
     "text": [
      "/Users/ryoung/anaconda3/lib/python3.5/site-packages/IPython/core/interactiveshell.py:2723: DtypeWarning: Columns (2,3,4,5,6,7,10,11,12,13,14,15,16,17,18,19,20,21,22,23,24,25,26,27,28,29,30,31) have mixed types. Specify dtype option on import or set low_memory=False.\n",
      "  interactivity=interactivity, compiler=compiler, result=result)\n"
     ]
    },
    {
     "name": "stdout",
     "output_type": "stream",
     "text": [
      "Memory Usage:\n",
      "Megabytes = 1962.510032\n",
      "Gigabytes = 1.962510\n"
     ]
    },
    {
     "data": {
      "text/html": [
       "<div>\n",
       "<table border=\"1\" class=\"dataframe\">\n",
       "  <thead>\n",
       "    <tr style=\"text-align: right;\">\n",
       "      <th></th>\n",
       "      <th>Timestamps</th>\n",
       "      <th>Submod</th>\n",
       "      <th>0</th>\n",
       "      <th>1</th>\n",
       "      <th>2</th>\n",
       "      <th>3</th>\n",
       "      <th>4</th>\n",
       "      <th>5</th>\n",
       "      <th>6</th>\n",
       "      <th>7</th>\n",
       "      <th>8</th>\n",
       "      <th>9</th>\n",
       "      <th>10</th>\n",
       "      <th>11</th>\n",
       "      <th>12</th>\n",
       "      <th>13</th>\n",
       "      <th>14</th>\n",
       "      <th>15</th>\n",
       "      <th>16</th>\n",
       "      <th>17</th>\n",
       "      <th>18</th>\n",
       "      <th>19</th>\n",
       "      <th>20</th>\n",
       "      <th>21</th>\n",
       "      <th>22</th>\n",
       "      <th>23</th>\n",
       "      <th>24</th>\n",
       "      <th>25</th>\n",
       "      <th>26</th>\n",
       "      <th>27</th>\n",
       "      <th>...</th>\n",
       "      <th>99</th>\n",
       "      <th>100</th>\n",
       "      <th>101</th>\n",
       "      <th>102</th>\n",
       "      <th>103</th>\n",
       "      <th>104</th>\n",
       "      <th>105</th>\n",
       "      <th>106</th>\n",
       "      <th>107</th>\n",
       "      <th>108</th>\n",
       "      <th>109</th>\n",
       "      <th>110</th>\n",
       "      <th>111</th>\n",
       "      <th>112</th>\n",
       "      <th>113</th>\n",
       "      <th>114</th>\n",
       "      <th>115</th>\n",
       "      <th>116</th>\n",
       "      <th>117</th>\n",
       "      <th>118</th>\n",
       "      <th>119</th>\n",
       "      <th>120</th>\n",
       "      <th>121</th>\n",
       "      <th>122</th>\n",
       "      <th>123</th>\n",
       "      <th>124</th>\n",
       "      <th>125</th>\n",
       "      <th>126</th>\n",
       "      <th>127</th>\n",
       "      <th>128</th>\n",
       "    </tr>\n",
       "  </thead>\n",
       "  <tbody>\n",
       "    <tr>\n",
       "      <th>0</th>\n",
       "      <td>1.461180e+09</td>\n",
       "      <td>/muse/eeg</td>\n",
       "      <td>774.785766602</td>\n",
       "      <td>787.945556641</td>\n",
       "      <td>819.200195312</td>\n",
       "      <td>679.37689209</td>\n",
       "      <td>1461179776.0</td>\n",
       "      <td>58746.0</td>\n",
       "      <td>NaN</td>\n",
       "      <td>NaN</td>\n",
       "      <td>NaN</td>\n",
       "      <td>NaN</td>\n",
       "      <td>NaN</td>\n",
       "      <td>NaN</td>\n",
       "      <td>NaN</td>\n",
       "      <td>NaN</td>\n",
       "      <td>NaN</td>\n",
       "      <td>NaN</td>\n",
       "      <td>NaN</td>\n",
       "      <td>NaN</td>\n",
       "      <td>NaN</td>\n",
       "      <td>NaN</td>\n",
       "      <td>NaN</td>\n",
       "      <td>NaN</td>\n",
       "      <td>NaN</td>\n",
       "      <td>NaN</td>\n",
       "      <td>NaN</td>\n",
       "      <td>NaN</td>\n",
       "      <td>NaN</td>\n",
       "      <td>NaN</td>\n",
       "      <td>...</td>\n",
       "      <td>NaN</td>\n",
       "      <td>NaN</td>\n",
       "      <td>NaN</td>\n",
       "      <td>NaN</td>\n",
       "      <td>NaN</td>\n",
       "      <td>NaN</td>\n",
       "      <td>NaN</td>\n",
       "      <td>NaN</td>\n",
       "      <td>NaN</td>\n",
       "      <td>NaN</td>\n",
       "      <td>NaN</td>\n",
       "      <td>NaN</td>\n",
       "      <td>NaN</td>\n",
       "      <td>NaN</td>\n",
       "      <td>NaN</td>\n",
       "      <td>NaN</td>\n",
       "      <td>NaN</td>\n",
       "      <td>NaN</td>\n",
       "      <td>NaN</td>\n",
       "      <td>NaN</td>\n",
       "      <td>NaN</td>\n",
       "      <td>NaN</td>\n",
       "      <td>NaN</td>\n",
       "      <td>NaN</td>\n",
       "      <td>NaN</td>\n",
       "      <td>NaN</td>\n",
       "      <td>NaN</td>\n",
       "      <td>NaN</td>\n",
       "      <td>NaN</td>\n",
       "      <td>NaN</td>\n",
       "    </tr>\n",
       "    <tr>\n",
       "      <th>1</th>\n",
       "      <td>1.461180e+09</td>\n",
       "      <td>/muse/eeg</td>\n",
       "      <td>768.205810547</td>\n",
       "      <td>768.205810547</td>\n",
       "      <td>830.715087891</td>\n",
       "      <td>700.76159668</td>\n",
       "      <td>1461179776.0</td>\n",
       "      <td>58747.0</td>\n",
       "      <td>NaN</td>\n",
       "      <td>NaN</td>\n",
       "      <td>NaN</td>\n",
       "      <td>NaN</td>\n",
       "      <td>NaN</td>\n",
       "      <td>NaN</td>\n",
       "      <td>NaN</td>\n",
       "      <td>NaN</td>\n",
       "      <td>NaN</td>\n",
       "      <td>NaN</td>\n",
       "      <td>NaN</td>\n",
       "      <td>NaN</td>\n",
       "      <td>NaN</td>\n",
       "      <td>NaN</td>\n",
       "      <td>NaN</td>\n",
       "      <td>NaN</td>\n",
       "      <td>NaN</td>\n",
       "      <td>NaN</td>\n",
       "      <td>NaN</td>\n",
       "      <td>NaN</td>\n",
       "      <td>NaN</td>\n",
       "      <td>NaN</td>\n",
       "      <td>...</td>\n",
       "      <td>NaN</td>\n",
       "      <td>NaN</td>\n",
       "      <td>NaN</td>\n",
       "      <td>NaN</td>\n",
       "      <td>NaN</td>\n",
       "      <td>NaN</td>\n",
       "      <td>NaN</td>\n",
       "      <td>NaN</td>\n",
       "      <td>NaN</td>\n",
       "      <td>NaN</td>\n",
       "      <td>NaN</td>\n",
       "      <td>NaN</td>\n",
       "      <td>NaN</td>\n",
       "      <td>NaN</td>\n",
       "      <td>NaN</td>\n",
       "      <td>NaN</td>\n",
       "      <td>NaN</td>\n",
       "      <td>NaN</td>\n",
       "      <td>NaN</td>\n",
       "      <td>NaN</td>\n",
       "      <td>NaN</td>\n",
       "      <td>NaN</td>\n",
       "      <td>NaN</td>\n",
       "      <td>NaN</td>\n",
       "      <td>NaN</td>\n",
       "      <td>NaN</td>\n",
       "      <td>NaN</td>\n",
       "      <td>NaN</td>\n",
       "      <td>NaN</td>\n",
       "      <td>NaN</td>\n",
       "    </tr>\n",
       "    <tr>\n",
       "      <th>2</th>\n",
       "      <td>1.461180e+09</td>\n",
       "      <td>/muse/eeg</td>\n",
       "      <td>776.430725098</td>\n",
       "      <td>771.495788574</td>\n",
       "      <td>829.070068359</td>\n",
       "      <td>717.211425781</td>\n",
       "      <td>1461179776.0</td>\n",
       "      <td>58748.0</td>\n",
       "      <td>NaN</td>\n",
       "      <td>NaN</td>\n",
       "      <td>NaN</td>\n",
       "      <td>NaN</td>\n",
       "      <td>NaN</td>\n",
       "      <td>NaN</td>\n",
       "      <td>NaN</td>\n",
       "      <td>NaN</td>\n",
       "      <td>NaN</td>\n",
       "      <td>NaN</td>\n",
       "      <td>NaN</td>\n",
       "      <td>NaN</td>\n",
       "      <td>NaN</td>\n",
       "      <td>NaN</td>\n",
       "      <td>NaN</td>\n",
       "      <td>NaN</td>\n",
       "      <td>NaN</td>\n",
       "      <td>NaN</td>\n",
       "      <td>NaN</td>\n",
       "      <td>NaN</td>\n",
       "      <td>NaN</td>\n",
       "      <td>NaN</td>\n",
       "      <td>...</td>\n",
       "      <td>NaN</td>\n",
       "      <td>NaN</td>\n",
       "      <td>NaN</td>\n",
       "      <td>NaN</td>\n",
       "      <td>NaN</td>\n",
       "      <td>NaN</td>\n",
       "      <td>NaN</td>\n",
       "      <td>NaN</td>\n",
       "      <td>NaN</td>\n",
       "      <td>NaN</td>\n",
       "      <td>NaN</td>\n",
       "      <td>NaN</td>\n",
       "      <td>NaN</td>\n",
       "      <td>NaN</td>\n",
       "      <td>NaN</td>\n",
       "      <td>NaN</td>\n",
       "      <td>NaN</td>\n",
       "      <td>NaN</td>\n",
       "      <td>NaN</td>\n",
       "      <td>NaN</td>\n",
       "      <td>NaN</td>\n",
       "      <td>NaN</td>\n",
       "      <td>NaN</td>\n",
       "      <td>NaN</td>\n",
       "      <td>NaN</td>\n",
       "      <td>NaN</td>\n",
       "      <td>NaN</td>\n",
       "      <td>NaN</td>\n",
       "      <td>NaN</td>\n",
       "      <td>NaN</td>\n",
       "    </tr>\n",
       "    <tr>\n",
       "      <th>3</th>\n",
       "      <td>1.461180e+09</td>\n",
       "      <td>/muse/eeg</td>\n",
       "      <td>786.300598145</td>\n",
       "      <td>769.850830078</td>\n",
       "      <td>835.650024414</td>\n",
       "      <td>748.466064453</td>\n",
       "      <td>1461179776.0</td>\n",
       "      <td>58749.0</td>\n",
       "      <td>NaN</td>\n",
       "      <td>NaN</td>\n",
       "      <td>NaN</td>\n",
       "      <td>NaN</td>\n",
       "      <td>NaN</td>\n",
       "      <td>NaN</td>\n",
       "      <td>NaN</td>\n",
       "      <td>NaN</td>\n",
       "      <td>NaN</td>\n",
       "      <td>NaN</td>\n",
       "      <td>NaN</td>\n",
       "      <td>NaN</td>\n",
       "      <td>NaN</td>\n",
       "      <td>NaN</td>\n",
       "      <td>NaN</td>\n",
       "      <td>NaN</td>\n",
       "      <td>NaN</td>\n",
       "      <td>NaN</td>\n",
       "      <td>NaN</td>\n",
       "      <td>NaN</td>\n",
       "      <td>NaN</td>\n",
       "      <td>NaN</td>\n",
       "      <td>...</td>\n",
       "      <td>NaN</td>\n",
       "      <td>NaN</td>\n",
       "      <td>NaN</td>\n",
       "      <td>NaN</td>\n",
       "      <td>NaN</td>\n",
       "      <td>NaN</td>\n",
       "      <td>NaN</td>\n",
       "      <td>NaN</td>\n",
       "      <td>NaN</td>\n",
       "      <td>NaN</td>\n",
       "      <td>NaN</td>\n",
       "      <td>NaN</td>\n",
       "      <td>NaN</td>\n",
       "      <td>NaN</td>\n",
       "      <td>NaN</td>\n",
       "      <td>NaN</td>\n",
       "      <td>NaN</td>\n",
       "      <td>NaN</td>\n",
       "      <td>NaN</td>\n",
       "      <td>NaN</td>\n",
       "      <td>NaN</td>\n",
       "      <td>NaN</td>\n",
       "      <td>NaN</td>\n",
       "      <td>NaN</td>\n",
       "      <td>NaN</td>\n",
       "      <td>NaN</td>\n",
       "      <td>NaN</td>\n",
       "      <td>NaN</td>\n",
       "      <td>NaN</td>\n",
       "      <td>NaN</td>\n",
       "    </tr>\n",
       "    <tr>\n",
       "      <th>4</th>\n",
       "      <td>1.461180e+09</td>\n",
       "      <td>/muse/eeg</td>\n",
       "      <td>802.750427246</td>\n",
       "      <td>769.850830078</td>\n",
       "      <td>830.715087891</td>\n",
       "      <td>766.560852051</td>\n",
       "      <td>1461179776.0</td>\n",
       "      <td>58749.0</td>\n",
       "      <td>NaN</td>\n",
       "      <td>NaN</td>\n",
       "      <td>NaN</td>\n",
       "      <td>NaN</td>\n",
       "      <td>NaN</td>\n",
       "      <td>NaN</td>\n",
       "      <td>NaN</td>\n",
       "      <td>NaN</td>\n",
       "      <td>NaN</td>\n",
       "      <td>NaN</td>\n",
       "      <td>NaN</td>\n",
       "      <td>NaN</td>\n",
       "      <td>NaN</td>\n",
       "      <td>NaN</td>\n",
       "      <td>NaN</td>\n",
       "      <td>NaN</td>\n",
       "      <td>NaN</td>\n",
       "      <td>NaN</td>\n",
       "      <td>NaN</td>\n",
       "      <td>NaN</td>\n",
       "      <td>NaN</td>\n",
       "      <td>NaN</td>\n",
       "      <td>...</td>\n",
       "      <td>NaN</td>\n",
       "      <td>NaN</td>\n",
       "      <td>NaN</td>\n",
       "      <td>NaN</td>\n",
       "      <td>NaN</td>\n",
       "      <td>NaN</td>\n",
       "      <td>NaN</td>\n",
       "      <td>NaN</td>\n",
       "      <td>NaN</td>\n",
       "      <td>NaN</td>\n",
       "      <td>NaN</td>\n",
       "      <td>NaN</td>\n",
       "      <td>NaN</td>\n",
       "      <td>NaN</td>\n",
       "      <td>NaN</td>\n",
       "      <td>NaN</td>\n",
       "      <td>NaN</td>\n",
       "      <td>NaN</td>\n",
       "      <td>NaN</td>\n",
       "      <td>NaN</td>\n",
       "      <td>NaN</td>\n",
       "      <td>NaN</td>\n",
       "      <td>NaN</td>\n",
       "      <td>NaN</td>\n",
       "      <td>NaN</td>\n",
       "      <td>NaN</td>\n",
       "      <td>NaN</td>\n",
       "      <td>NaN</td>\n",
       "      <td>NaN</td>\n",
       "      <td>NaN</td>\n",
       "    </tr>\n",
       "    <tr>\n",
       "      <th>...</th>\n",
       "      <td>...</td>\n",
       "      <td>...</td>\n",
       "      <td>...</td>\n",
       "      <td>...</td>\n",
       "      <td>...</td>\n",
       "      <td>...</td>\n",
       "      <td>...</td>\n",
       "      <td>...</td>\n",
       "      <td>...</td>\n",
       "      <td>...</td>\n",
       "      <td>...</td>\n",
       "      <td>...</td>\n",
       "      <td>...</td>\n",
       "      <td>...</td>\n",
       "      <td>...</td>\n",
       "      <td>...</td>\n",
       "      <td>...</td>\n",
       "      <td>...</td>\n",
       "      <td>...</td>\n",
       "      <td>...</td>\n",
       "      <td>...</td>\n",
       "      <td>...</td>\n",
       "      <td>...</td>\n",
       "      <td>...</td>\n",
       "      <td>...</td>\n",
       "      <td>...</td>\n",
       "      <td>...</td>\n",
       "      <td>...</td>\n",
       "      <td>...</td>\n",
       "      <td>...</td>\n",
       "      <td>...</td>\n",
       "      <td>...</td>\n",
       "      <td>...</td>\n",
       "      <td>...</td>\n",
       "      <td>...</td>\n",
       "      <td>...</td>\n",
       "      <td>...</td>\n",
       "      <td>...</td>\n",
       "      <td>...</td>\n",
       "      <td>...</td>\n",
       "      <td>...</td>\n",
       "      <td>...</td>\n",
       "      <td>...</td>\n",
       "      <td>...</td>\n",
       "      <td>...</td>\n",
       "      <td>...</td>\n",
       "      <td>...</td>\n",
       "      <td>...</td>\n",
       "      <td>...</td>\n",
       "      <td>...</td>\n",
       "      <td>...</td>\n",
       "      <td>...</td>\n",
       "      <td>...</td>\n",
       "      <td>...</td>\n",
       "      <td>...</td>\n",
       "      <td>...</td>\n",
       "      <td>...</td>\n",
       "      <td>...</td>\n",
       "      <td>...</td>\n",
       "      <td>...</td>\n",
       "      <td>...</td>\n",
       "    </tr>\n",
       "    <tr>\n",
       "      <th>1872619</th>\n",
       "      <td>1.461183e+09</td>\n",
       "      <td>/muse/eeg</td>\n",
       "      <td>825.780151367</td>\n",
       "      <td>799.460449219</td>\n",
       "      <td>850.454833984</td>\n",
       "      <td>852.09979248</td>\n",
       "      <td>1461183104.0</td>\n",
       "      <td>142605.0</td>\n",
       "      <td>NaN</td>\n",
       "      <td>NaN</td>\n",
       "      <td>NaN</td>\n",
       "      <td>NaN</td>\n",
       "      <td>NaN</td>\n",
       "      <td>NaN</td>\n",
       "      <td>NaN</td>\n",
       "      <td>NaN</td>\n",
       "      <td>NaN</td>\n",
       "      <td>NaN</td>\n",
       "      <td>NaN</td>\n",
       "      <td>NaN</td>\n",
       "      <td>NaN</td>\n",
       "      <td>NaN</td>\n",
       "      <td>NaN</td>\n",
       "      <td>NaN</td>\n",
       "      <td>NaN</td>\n",
       "      <td>NaN</td>\n",
       "      <td>NaN</td>\n",
       "      <td>NaN</td>\n",
       "      <td>NaN</td>\n",
       "      <td>NaN</td>\n",
       "      <td>...</td>\n",
       "      <td>NaN</td>\n",
       "      <td>NaN</td>\n",
       "      <td>NaN</td>\n",
       "      <td>NaN</td>\n",
       "      <td>NaN</td>\n",
       "      <td>NaN</td>\n",
       "      <td>NaN</td>\n",
       "      <td>NaN</td>\n",
       "      <td>NaN</td>\n",
       "      <td>NaN</td>\n",
       "      <td>NaN</td>\n",
       "      <td>NaN</td>\n",
       "      <td>NaN</td>\n",
       "      <td>NaN</td>\n",
       "      <td>NaN</td>\n",
       "      <td>NaN</td>\n",
       "      <td>NaN</td>\n",
       "      <td>NaN</td>\n",
       "      <td>NaN</td>\n",
       "      <td>NaN</td>\n",
       "      <td>NaN</td>\n",
       "      <td>NaN</td>\n",
       "      <td>NaN</td>\n",
       "      <td>NaN</td>\n",
       "      <td>NaN</td>\n",
       "      <td>NaN</td>\n",
       "      <td>NaN</td>\n",
       "      <td>NaN</td>\n",
       "      <td>NaN</td>\n",
       "      <td>NaN</td>\n",
       "    </tr>\n",
       "    <tr>\n",
       "      <th>1872620</th>\n",
       "      <td>1.461183e+09</td>\n",
       "      <td>/muse/eeg</td>\n",
       "      <td>817.555236816</td>\n",
       "      <td>794.525512695</td>\n",
       "      <td>850.454833984</td>\n",
       "      <td>843.874938965</td>\n",
       "      <td>1461183104.0</td>\n",
       "      <td>142605.0</td>\n",
       "      <td>NaN</td>\n",
       "      <td>NaN</td>\n",
       "      <td>NaN</td>\n",
       "      <td>NaN</td>\n",
       "      <td>NaN</td>\n",
       "      <td>NaN</td>\n",
       "      <td>NaN</td>\n",
       "      <td>NaN</td>\n",
       "      <td>NaN</td>\n",
       "      <td>NaN</td>\n",
       "      <td>NaN</td>\n",
       "      <td>NaN</td>\n",
       "      <td>NaN</td>\n",
       "      <td>NaN</td>\n",
       "      <td>NaN</td>\n",
       "      <td>NaN</td>\n",
       "      <td>NaN</td>\n",
       "      <td>NaN</td>\n",
       "      <td>NaN</td>\n",
       "      <td>NaN</td>\n",
       "      <td>NaN</td>\n",
       "      <td>NaN</td>\n",
       "      <td>...</td>\n",
       "      <td>NaN</td>\n",
       "      <td>NaN</td>\n",
       "      <td>NaN</td>\n",
       "      <td>NaN</td>\n",
       "      <td>NaN</td>\n",
       "      <td>NaN</td>\n",
       "      <td>NaN</td>\n",
       "      <td>NaN</td>\n",
       "      <td>NaN</td>\n",
       "      <td>NaN</td>\n",
       "      <td>NaN</td>\n",
       "      <td>NaN</td>\n",
       "      <td>NaN</td>\n",
       "      <td>NaN</td>\n",
       "      <td>NaN</td>\n",
       "      <td>NaN</td>\n",
       "      <td>NaN</td>\n",
       "      <td>NaN</td>\n",
       "      <td>NaN</td>\n",
       "      <td>NaN</td>\n",
       "      <td>NaN</td>\n",
       "      <td>NaN</td>\n",
       "      <td>NaN</td>\n",
       "      <td>NaN</td>\n",
       "      <td>NaN</td>\n",
       "      <td>NaN</td>\n",
       "      <td>NaN</td>\n",
       "      <td>NaN</td>\n",
       "      <td>NaN</td>\n",
       "      <td>NaN</td>\n",
       "    </tr>\n",
       "    <tr>\n",
       "      <th>1872621</th>\n",
       "      <td>1.461183e+09</td>\n",
       "      <td>/muse/eeg</td>\n",
       "      <td>834.005004883</td>\n",
       "      <td>794.525512695</td>\n",
       "      <td>845.519897461</td>\n",
       "      <td>838.940002441</td>\n",
       "      <td>1461183104.0</td>\n",
       "      <td>142605.0</td>\n",
       "      <td>NaN</td>\n",
       "      <td>NaN</td>\n",
       "      <td>NaN</td>\n",
       "      <td>NaN</td>\n",
       "      <td>NaN</td>\n",
       "      <td>NaN</td>\n",
       "      <td>NaN</td>\n",
       "      <td>NaN</td>\n",
       "      <td>NaN</td>\n",
       "      <td>NaN</td>\n",
       "      <td>NaN</td>\n",
       "      <td>NaN</td>\n",
       "      <td>NaN</td>\n",
       "      <td>NaN</td>\n",
       "      <td>NaN</td>\n",
       "      <td>NaN</td>\n",
       "      <td>NaN</td>\n",
       "      <td>NaN</td>\n",
       "      <td>NaN</td>\n",
       "      <td>NaN</td>\n",
       "      <td>NaN</td>\n",
       "      <td>NaN</td>\n",
       "      <td>...</td>\n",
       "      <td>NaN</td>\n",
       "      <td>NaN</td>\n",
       "      <td>NaN</td>\n",
       "      <td>NaN</td>\n",
       "      <td>NaN</td>\n",
       "      <td>NaN</td>\n",
       "      <td>NaN</td>\n",
       "      <td>NaN</td>\n",
       "      <td>NaN</td>\n",
       "      <td>NaN</td>\n",
       "      <td>NaN</td>\n",
       "      <td>NaN</td>\n",
       "      <td>NaN</td>\n",
       "      <td>NaN</td>\n",
       "      <td>NaN</td>\n",
       "      <td>NaN</td>\n",
       "      <td>NaN</td>\n",
       "      <td>NaN</td>\n",
       "      <td>NaN</td>\n",
       "      <td>NaN</td>\n",
       "      <td>NaN</td>\n",
       "      <td>NaN</td>\n",
       "      <td>NaN</td>\n",
       "      <td>NaN</td>\n",
       "      <td>NaN</td>\n",
       "      <td>NaN</td>\n",
       "      <td>NaN</td>\n",
       "      <td>NaN</td>\n",
       "      <td>NaN</td>\n",
       "      <td>NaN</td>\n",
       "    </tr>\n",
       "    <tr>\n",
       "      <th>1872622</th>\n",
       "      <td>1.461183e+09</td>\n",
       "      <td>/muse/eeg</td>\n",
       "      <td>838.940002441</td>\n",
       "      <td>797.815490723</td>\n",
       "      <td>848.809875488</td>\n",
       "      <td>855.389770508</td>\n",
       "      <td>1461183104.0</td>\n",
       "      <td>142606.0</td>\n",
       "      <td>NaN</td>\n",
       "      <td>NaN</td>\n",
       "      <td>NaN</td>\n",
       "      <td>NaN</td>\n",
       "      <td>NaN</td>\n",
       "      <td>NaN</td>\n",
       "      <td>NaN</td>\n",
       "      <td>NaN</td>\n",
       "      <td>NaN</td>\n",
       "      <td>NaN</td>\n",
       "      <td>NaN</td>\n",
       "      <td>NaN</td>\n",
       "      <td>NaN</td>\n",
       "      <td>NaN</td>\n",
       "      <td>NaN</td>\n",
       "      <td>NaN</td>\n",
       "      <td>NaN</td>\n",
       "      <td>NaN</td>\n",
       "      <td>NaN</td>\n",
       "      <td>NaN</td>\n",
       "      <td>NaN</td>\n",
       "      <td>NaN</td>\n",
       "      <td>...</td>\n",
       "      <td>NaN</td>\n",
       "      <td>NaN</td>\n",
       "      <td>NaN</td>\n",
       "      <td>NaN</td>\n",
       "      <td>NaN</td>\n",
       "      <td>NaN</td>\n",
       "      <td>NaN</td>\n",
       "      <td>NaN</td>\n",
       "      <td>NaN</td>\n",
       "      <td>NaN</td>\n",
       "      <td>NaN</td>\n",
       "      <td>NaN</td>\n",
       "      <td>NaN</td>\n",
       "      <td>NaN</td>\n",
       "      <td>NaN</td>\n",
       "      <td>NaN</td>\n",
       "      <td>NaN</td>\n",
       "      <td>NaN</td>\n",
       "      <td>NaN</td>\n",
       "      <td>NaN</td>\n",
       "      <td>NaN</td>\n",
       "      <td>NaN</td>\n",
       "      <td>NaN</td>\n",
       "      <td>NaN</td>\n",
       "      <td>NaN</td>\n",
       "      <td>NaN</td>\n",
       "      <td>NaN</td>\n",
       "      <td>NaN</td>\n",
       "      <td>NaN</td>\n",
       "      <td>NaN</td>\n",
       "    </tr>\n",
       "    <tr>\n",
       "      <th>1872623</th>\n",
       "      <td>1.461183e+09</td>\n",
       "      <td>/muse/eeg</td>\n",
       "      <td>845.519897461</td>\n",
       "      <td>796.170471191</td>\n",
       "      <td>852.09979248</td>\n",
       "      <td>858.679748535</td>\n",
       "      <td>1461183104.0</td>\n",
       "      <td>142606.0</td>\n",
       "      <td>NaN</td>\n",
       "      <td>NaN</td>\n",
       "      <td>NaN</td>\n",
       "      <td>NaN</td>\n",
       "      <td>NaN</td>\n",
       "      <td>NaN</td>\n",
       "      <td>NaN</td>\n",
       "      <td>NaN</td>\n",
       "      <td>NaN</td>\n",
       "      <td>NaN</td>\n",
       "      <td>NaN</td>\n",
       "      <td>NaN</td>\n",
       "      <td>NaN</td>\n",
       "      <td>NaN</td>\n",
       "      <td>NaN</td>\n",
       "      <td>NaN</td>\n",
       "      <td>NaN</td>\n",
       "      <td>NaN</td>\n",
       "      <td>NaN</td>\n",
       "      <td>NaN</td>\n",
       "      <td>NaN</td>\n",
       "      <td>NaN</td>\n",
       "      <td>...</td>\n",
       "      <td>NaN</td>\n",
       "      <td>NaN</td>\n",
       "      <td>NaN</td>\n",
       "      <td>NaN</td>\n",
       "      <td>NaN</td>\n",
       "      <td>NaN</td>\n",
       "      <td>NaN</td>\n",
       "      <td>NaN</td>\n",
       "      <td>NaN</td>\n",
       "      <td>NaN</td>\n",
       "      <td>NaN</td>\n",
       "      <td>NaN</td>\n",
       "      <td>NaN</td>\n",
       "      <td>NaN</td>\n",
       "      <td>NaN</td>\n",
       "      <td>NaN</td>\n",
       "      <td>NaN</td>\n",
       "      <td>NaN</td>\n",
       "      <td>NaN</td>\n",
       "      <td>NaN</td>\n",
       "      <td>NaN</td>\n",
       "      <td>NaN</td>\n",
       "      <td>NaN</td>\n",
       "      <td>NaN</td>\n",
       "      <td>NaN</td>\n",
       "      <td>NaN</td>\n",
       "      <td>NaN</td>\n",
       "      <td>NaN</td>\n",
       "      <td>NaN</td>\n",
       "      <td>NaN</td>\n",
       "    </tr>\n",
       "  </tbody>\n",
       "</table>\n",
       "<p>1872624 rows × 131 columns</p>\n",
       "</div>"
      ],
      "text/plain": [
       "           Timestamps      Submod               0               1               2              3              4         5   6   7    8    9   10   11   12   13   14   15   16   17   18   19   20   21   22   23   24   25   26   27 ...   99 100  101  102  103  104  105  106  107  108  109  110  111  112  113  114  115  116  117  118  119  120  121  122  123  124  125  126  127  128\n",
       "0        1.461180e+09   /muse/eeg   774.785766602   787.945556641   819.200195312   679.37689209   1461179776.0   58746.0 NaN NaN  NaN  NaN  NaN  NaN  NaN  NaN  NaN  NaN  NaN  NaN  NaN  NaN  NaN  NaN  NaN  NaN  NaN  NaN  NaN  NaN ...  NaN NaN  NaN  NaN  NaN  NaN  NaN  NaN  NaN  NaN  NaN  NaN  NaN  NaN  NaN  NaN  NaN  NaN  NaN  NaN  NaN  NaN  NaN  NaN  NaN  NaN  NaN  NaN  NaN  NaN\n",
       "1        1.461180e+09   /muse/eeg   768.205810547   768.205810547   830.715087891   700.76159668   1461179776.0   58747.0 NaN NaN  NaN  NaN  NaN  NaN  NaN  NaN  NaN  NaN  NaN  NaN  NaN  NaN  NaN  NaN  NaN  NaN  NaN  NaN  NaN  NaN ...  NaN NaN  NaN  NaN  NaN  NaN  NaN  NaN  NaN  NaN  NaN  NaN  NaN  NaN  NaN  NaN  NaN  NaN  NaN  NaN  NaN  NaN  NaN  NaN  NaN  NaN  NaN  NaN  NaN  NaN\n",
       "2        1.461180e+09   /muse/eeg   776.430725098   771.495788574   829.070068359  717.211425781   1461179776.0   58748.0 NaN NaN  NaN  NaN  NaN  NaN  NaN  NaN  NaN  NaN  NaN  NaN  NaN  NaN  NaN  NaN  NaN  NaN  NaN  NaN  NaN  NaN ...  NaN NaN  NaN  NaN  NaN  NaN  NaN  NaN  NaN  NaN  NaN  NaN  NaN  NaN  NaN  NaN  NaN  NaN  NaN  NaN  NaN  NaN  NaN  NaN  NaN  NaN  NaN  NaN  NaN  NaN\n",
       "3        1.461180e+09   /muse/eeg   786.300598145   769.850830078   835.650024414  748.466064453   1461179776.0   58749.0 NaN NaN  NaN  NaN  NaN  NaN  NaN  NaN  NaN  NaN  NaN  NaN  NaN  NaN  NaN  NaN  NaN  NaN  NaN  NaN  NaN  NaN ...  NaN NaN  NaN  NaN  NaN  NaN  NaN  NaN  NaN  NaN  NaN  NaN  NaN  NaN  NaN  NaN  NaN  NaN  NaN  NaN  NaN  NaN  NaN  NaN  NaN  NaN  NaN  NaN  NaN  NaN\n",
       "4        1.461180e+09   /muse/eeg   802.750427246   769.850830078   830.715087891  766.560852051   1461179776.0   58749.0 NaN NaN  NaN  NaN  NaN  NaN  NaN  NaN  NaN  NaN  NaN  NaN  NaN  NaN  NaN  NaN  NaN  NaN  NaN  NaN  NaN  NaN ...  NaN NaN  NaN  NaN  NaN  NaN  NaN  NaN  NaN  NaN  NaN  NaN  NaN  NaN  NaN  NaN  NaN  NaN  NaN  NaN  NaN  NaN  NaN  NaN  NaN  NaN  NaN  NaN  NaN  NaN\n",
       "...               ...         ...             ...             ...             ...            ...            ...       ...  ..  ..  ...  ...  ...  ...  ...  ...  ...  ...  ...  ...  ...  ...  ...  ...  ...  ...  ...  ...  ...  ... ...   ..  ..  ...  ...  ...  ...  ...  ...  ...  ...  ...  ...  ...  ...  ...  ...  ...  ...  ...  ...  ...  ...  ...  ...  ...  ...  ...  ...  ...  ...\n",
       "1872619  1.461183e+09   /muse/eeg   825.780151367   799.460449219   850.454833984   852.09979248   1461183104.0  142605.0 NaN NaN  NaN  NaN  NaN  NaN  NaN  NaN  NaN  NaN  NaN  NaN  NaN  NaN  NaN  NaN  NaN  NaN  NaN  NaN  NaN  NaN ...  NaN NaN  NaN  NaN  NaN  NaN  NaN  NaN  NaN  NaN  NaN  NaN  NaN  NaN  NaN  NaN  NaN  NaN  NaN  NaN  NaN  NaN  NaN  NaN  NaN  NaN  NaN  NaN  NaN  NaN\n",
       "1872620  1.461183e+09   /muse/eeg   817.555236816   794.525512695   850.454833984  843.874938965   1461183104.0  142605.0 NaN NaN  NaN  NaN  NaN  NaN  NaN  NaN  NaN  NaN  NaN  NaN  NaN  NaN  NaN  NaN  NaN  NaN  NaN  NaN  NaN  NaN ...  NaN NaN  NaN  NaN  NaN  NaN  NaN  NaN  NaN  NaN  NaN  NaN  NaN  NaN  NaN  NaN  NaN  NaN  NaN  NaN  NaN  NaN  NaN  NaN  NaN  NaN  NaN  NaN  NaN  NaN\n",
       "1872621  1.461183e+09   /muse/eeg   834.005004883   794.525512695   845.519897461  838.940002441   1461183104.0  142605.0 NaN NaN  NaN  NaN  NaN  NaN  NaN  NaN  NaN  NaN  NaN  NaN  NaN  NaN  NaN  NaN  NaN  NaN  NaN  NaN  NaN  NaN ...  NaN NaN  NaN  NaN  NaN  NaN  NaN  NaN  NaN  NaN  NaN  NaN  NaN  NaN  NaN  NaN  NaN  NaN  NaN  NaN  NaN  NaN  NaN  NaN  NaN  NaN  NaN  NaN  NaN  NaN\n",
       "1872622  1.461183e+09   /muse/eeg   838.940002441   797.815490723   848.809875488  855.389770508   1461183104.0  142606.0 NaN NaN  NaN  NaN  NaN  NaN  NaN  NaN  NaN  NaN  NaN  NaN  NaN  NaN  NaN  NaN  NaN  NaN  NaN  NaN  NaN  NaN ...  NaN NaN  NaN  NaN  NaN  NaN  NaN  NaN  NaN  NaN  NaN  NaN  NaN  NaN  NaN  NaN  NaN  NaN  NaN  NaN  NaN  NaN  NaN  NaN  NaN  NaN  NaN  NaN  NaN  NaN\n",
       "1872623  1.461183e+09   /muse/eeg   845.519897461   796.170471191    852.09979248  858.679748535   1461183104.0  142606.0 NaN NaN  NaN  NaN  NaN  NaN  NaN  NaN  NaN  NaN  NaN  NaN  NaN  NaN  NaN  NaN  NaN  NaN  NaN  NaN  NaN  NaN ...  NaN NaN  NaN  NaN  NaN  NaN  NaN  NaN  NaN  NaN  NaN  NaN  NaN  NaN  NaN  NaN  NaN  NaN  NaN  NaN  NaN  NaN  NaN  NaN  NaN  NaN  NaN  NaN  NaN  NaN\n",
       "\n",
       "[1872624 rows x 131 columns]"
      ]
     },
     "execution_count": 32,
     "metadata": {},
     "output_type": "execute_result"
    }
   ],
   "source": [
    "# Load csv into memory\n",
    "D = pandas.read_csv(cfile.value,low_memory=True)\n",
    "print(\"Memory Usage:\\nMegabytes = %f\\nGigabytes = %f\" \\\n",
    "      % (D.memory_usage().sum()/1e6, D.memory_usage().sum()/1e9))\n",
    "D"
   ]
  },
  {
   "cell_type": "markdown",
   "metadata": {},
   "source": [
    "Below, a graphic to show the shape of the data, if plot flag is on.\n",
    "\n",
    "The image is a binary mask describing where data lives. **Black** indicates data lives there, **White** is void. The long black streaks are the fft packets. They appear to dump at irregular times."
   ]
  },
  {
   "cell_type": "code",
   "execution_count": 33,
   "metadata": {
    "code_folding": [],
    "collapsed": false,
    "scrolled": true
   },
   "outputs": [
    {
     "data": {
      "image/png": "[encoded data removed]",
      "text/plain": [
       "<matplotlib.figure.Figure at 0x115abb278>"
      ]
     },
     "metadata": {},
     "output_type": "display_data"
    }
   ],
   "source": [
    "if plot_data_aspects:\n",
    "    NullMat=D.isnull().as_matrix()\n",
    "    mpl.pyplot.imshow(~NullMat, cmap='Greys',  interpolation='nearest', aspect='auto')"
   ]
  },
  {
   "cell_type": "markdown",
   "metadata": {
    "nbpresent": {
     "id": "052bde9e-b661-4113-a650-479e6982b10c"
    }
   },
   "source": [
    "***"
   ]
  },
  {
   "cell_type": "markdown",
   "metadata": {
    "nbpresent": {
     "id": "c5d0725e-a052-40fa-9d20-9bb26e0b05cf"
    }
   },
   "source": [
    "## Unique row components\n",
    "\n",
    "There are currently 34 components dumped into the muse data"
   ]
  },
  {
   "cell_type": "code",
   "execution_count": 34,
   "metadata": {
    "code_folding": [],
    "collapsed": false,
    "nbpresent": {
     "id": "64350836-e90f-4caf-87bb-fb355c69803c"
    },
    "scrolled": true
   },
   "outputs": [
    {
     "name": "stdout",
     "output_type": "stream",
     "text": [
      "UNIQUE PACKET TYPES\n",
      "------------------------------------------------------------------------------------------\n",
      "(0)\t /muse/eeg\n",
      "(1)\t/muse/eeg\n",
      "(2)\t/muse/elements/alpha_relative\n",
      "(3)\t/muse/elements/beta_relative\n",
      "(4)\t/muse/elements/delta_relative\n",
      "(5)\t/muse/elements/gamma_relative\n",
      "(6)\t/muse/elements/theta_relative\n",
      "(7)\t/muse/elements/horseshoe\n",
      "(8)\t/muse/elements/is_good\n",
      "(9)\t/muse/elements/blink\n",
      "(10)\t/muse/elements/jaw_clench\n",
      "(11)\t/muse/elements/touching_forehead\n",
      "(12)\t/muse/elements/experimental/concentration\n",
      "(13)\t/muse/elements/experimental/mellow\n",
      "(14)\t/muse/elements/raw_fft0\n",
      "(15)\t/muse/elements/raw_fft1\n",
      "(16)\t/muse/elements/raw_fft2\n",
      "(17)\t/muse/elements/raw_fft3\n",
      "(18)\t/muse/elements/low_freqs_absolute\n",
      "(19)\t/muse/elements/alpha_absolute\n",
      "(20)\t/muse/elements/beta_absolute\n",
      "(21)\t/muse/elements/delta_absolute\n",
      "(22)\t/muse/elements/gamma_absolute\n",
      "(23)\t/muse/elements/theta_absolute\n",
      "(24)\t/muse/elements/alpha_session_score\n",
      "(25)\t/muse/elements/beta_session_score\n",
      "(26)\t/muse/elements/delta_session_score\n",
      "(27)\t/muse/elements/gamma_session_score\n",
      "(28)\t/muse/elements/theta_session_score\n",
      "(29)\t/muse/acc\n",
      "(30)\t/muse/eeg/quantization\n",
      "(31)\t/muse/drlref\n",
      "(32)\t/muse/config\n",
      "(33)\t/muse/version\n",
      "(34)\t/muse/batt\n"
     ]
    }
   ],
   "source": [
    "# Acquire and print out all unique components\n",
    "uniques = pandas.Series(D['Submod']).unique()\n",
    "print('UNIQUE PACKET TYPES\\n' + \"-\"*90)\n",
    "for i,u in enumerate(uniques):\n",
    "    print(\"(%d)\\t%s\" % (i,u))"
   ]
  },
  {
   "cell_type": "markdown",
   "metadata": {},
   "source": [
    "## Helper Functions\n",
    "Some functions that will make our lives easier below"
   ]
  },
  {
   "cell_type": "code",
   "execution_count": 40,
   "metadata": {
    "code_folding": [],
    "collapsed": false
   },
   "outputs": [],
   "source": [
    "def find_rightmost_empty(M):\n",
    "    '''\n",
    "    This method given a mxn matrix finds the rightmost column\n",
    "    with an NaN value. This determines where for each packet type\n",
    "    we stop our slicing.\n",
    "    \n",
    "    Input:    Numpy Matrix (hopefully cast into float, but may work with other types)\n",
    "    Output:   Column number that NaNs begin the furthest from element 0 (furthest form the left)\n",
    "    '''\n",
    "    \n",
    "    not_nan_M = ~np.isnan(M)\n",
    "    (i,j) = np.nonzero(not_nan_M)\n",
    "    #print('i elements %s' % str(i))\n",
    "    #print('j elements %s' % str(j))\n",
    "    return np.max(j)\n",
    "\n",
    "def nestedAssignment(obj,addr,val):\n",
    "    '''\n",
    "    Deceptively simple method that takes a string list of keys and makes a nested assignment\n",
    "    to the nested dictionary called obj = { { ... } } It finally plants the value at the end\n",
    "    of the hiearachy of keys. It's able to be a few lines of code thanks to recursion and the\n",
    "    \"pass by reference\" feature of the python language, different from matlab, which behaves\n",
    "    like it passes by value ()\n",
    "    '''\n",
    "    if len(addr) > 1:\n",
    "        \n",
    "        key = addr.pop()\n",
    "\n",
    "        try:\n",
    "            test=obj[key]\n",
    "        except KeyError:\n",
    "            obj[key] = {}\n",
    "        nestedAssignment(obj[key],addr,val)\n",
    "    else:\n",
    "        obj[addr.pop()] = val\n",
    "\n",
    "def extract_into(into,at,what,rowtype):\n",
    "    '''\n",
    "    This method extracts rows containing `what` (string) from `frm` pandas object (using the Submod column).\n",
    "    It then places the result into the dict `into`, at the location represented by `at`. `at` is a list.\n",
    "    Each element, in order, is a key, indexing `into`\n",
    "    \n",
    "    Outputs: Modification of `into`, to include the `what` rows from `frm` pandas object's Submod, \n",
    "    '''\n",
    "    global timestamp_zerod\n",
    "    \n",
    "    #Reverse order of at (I've set it up this way so that users can specifiy an address 'Raw','Data' in such\n",
    "    # a way that Raw is the first index and data is the second. But my nestedAssignment method expects reverse\n",
    "    # order because it treats the list as a stack using .pop() method)\n",
    "    at = at[::-1]\n",
    "    \n",
    "    # Pick out the rows\n",
    "    mask_rows = what['Submod'] == rowtype\n",
    "    #print('Row type = %s' rowtype)\n",
    "    #print(\"Sum of rows = %s, List = %s\" % (str(mask_rows.sum()), str(mask_rows)))\n",
    "    \n",
    "    # Aquire data and associated timestamps\n",
    "    data = what[mask_rows]\n",
    "    del(data['Submod'])\n",
    "    \n",
    "    timestamps = data['Timestamps'].values\n",
    "    timestamps = np.reshape(timestamps, (-1,1) )\n",
    "    del(data['Timestamps'])\n",
    "    if timestamp_zerod:\n",
    "        timestamps = timestamps - timestamps[0]\n",
    "    \n",
    "    data = data.as_matrix().astype('float')\n",
    "    # Now, cut out columns lacking data\n",
    "    rightmost_col = find_rightmost_empty(data)\n",
    "    data = data[:,:rightmost_col+1]\n",
    "    \n",
    "    data = np.concatenate( (timestamps,data), axis=1)\n",
    "    \n",
    "    # Now, we place the data into the dict\n",
    "    at_copy = at.copy() # the method takes advantage of pass by reference, so wee need to copy this\n",
    "    nestedAssignment(into,at,data)\n",
    "    # Then, \n",
    "    #at_copy[0] += \"_timestamps\"\n",
    "    #nestedAssignment(into,at_copy,timestamps)\n",
    "    \n",
    "    # Return dict, data, and timestamp for this type of data\n",
    "    #return data,timestamps\n",
    "    "
   ]
  },
  {
   "cell_type": "markdown",
   "metadata": {},
   "source": [
    "## Data Structure Creation\n",
    "\n",
    "Using those, we can create different organization systems. The most natural, I think, is a functional split, eeg versus behavioral. But sampling size split also might be nice.  \n",
    "\n",
    "### Functional Data Structure\n",
    "This structure groups things by how the data types are used and follow the following structure,\n",
    "`eeg` set containing `raw` components and `processed` components. Processed contains the **Muse** processed elements in the various frequency bands.\n",
    "\n",
    "#### EEG"
   ]
  },
  {
   "cell_type": "code",
   "execution_count": 36,
   "metadata": {
    "code_folding": [],
    "collapsed": true
   },
   "outputs": [],
   "source": [
    "# Our master structure to contain extracted data\n",
    "eeg = {};"
   ]
  },
  {
   "cell_type": "markdown",
   "metadata": {},
   "source": [
    "Here, we place raw data and its timestamps into the `eeg` dictionary"
   ]
  },
  {
   "cell_type": "code",
   "execution_count": 57,
   "metadata": {
    "collapsed": false,
    "scrolled": true
   },
   "outputs": [
    {
     "data": {
      "text/plain": [
       "(array([[  0.00000000e+00,   7.68205811e+02,   7.68205811e+02, ...,\n",
       "           7.00761597e+02,   1.46117978e+09,   5.87470000e+04],\n",
       "        [  2.66075134e-04,   7.76430725e+02,   7.71495789e+02, ...,\n",
       "           7.17211426e+02,   1.46117978e+09,   5.87480000e+04],\n",
       "        [  3.23057175e-04,   7.86300598e+02,   7.69850830e+02, ...,\n",
       "           7.48466064e+02,   1.46117978e+09,   5.87490000e+04],\n",
       "        ..., \n",
       "        [  3.30455298e+03,   8.34005005e+02,   7.94525513e+02, ...,\n",
       "           8.38940002e+02,   1.46118310e+09,   1.42605000e+05],\n",
       "        [  3.30455317e+03,   8.38940002e+02,   7.97815491e+02, ...,\n",
       "           8.55389771e+02,   1.46118310e+09,   1.42606000e+05],\n",
       "        [  3.30455336e+03,   8.45519897e+02,   7.96170471e+02, ...,\n",
       "           8.58679749e+02,   1.46118310e+09,   1.42606000e+05]]),\n",
       " array([[  0.00000000e+00],\n",
       "        [  2.66075134e-04],\n",
       "        [  3.23057175e-04],\n",
       "        ..., \n",
       "        [  3.30455298e+03],\n",
       "        [  3.30455317e+03],\n",
       "        [  3.30455336e+03]]))"
      ]
     },
     "execution_count": 57,
     "metadata": {},
     "output_type": "execute_result"
    }
   ],
   "source": [
    "# Place raw data\n",
    "extract_into(eeg,['raw'],D,'/muse/eeg')"
   ]
  },
  {
   "cell_type": "code",
   "execution_count": 67,
   "metadata": {
    "code_folding": [
     5
    ],
    "collapsed": false,
    "scrolled": true
   },
   "outputs": [
    {
     "data": {
      "image/png": "[encoded data removed]",
      "text/plain": [
       "<matplotlib.figure.Figure at 0x1499b4588>"
      ]
     },
     "metadata": {},
     "output_type": "display_data"
    }
   ],
   "source": [
    "# Show data, if option given\n",
    "if plot_data_aspects:\n",
    "    plt.figure(dpi=220,figsize = (12,6))\n",
    "\n",
    "    ax = plt.subplot(3,1,1)\n",
    "    plt.plot(eeg['raw'][:,0],eeg['raw'][:,1:5],alpha=0.2)\n",
    "    ax.set_xlabel('Seconds')\n",
    "    ax.set_ylabel('uVolt')\n",
    "    ax.set_title('Signal Electrodes')\n",
    "    plt.legend(list(range(eeg['raw'][:,1:5].shape[0])))\n",
    "    plt.subplot(3,1,2)\n",
    "    plt.plot(eeg['raw'][:,0],eeg['raw'][:,5:6],alpha=0.2)\n",
    "    ax=plt.subplot(3,1,3)\n",
    "    plt.plot(eeg['raw'][:,0],eeg['raw'][:,6:],alpha=0.2)\n",
    "    ax.set_xlabel('Seconds')\n",
    "    ax.set_ylabel('uVolt')\n",
    "    ax.set_title('Reference Electrode')\n",
    "    \n",
    "    plt.tight_layout(pad=0.5)\n",
    "    "
   ]
  },
  {
   "cell_type": "markdown",
   "metadata": {},
   "source": [
    "Now that raw data lives in the dictionary, we have relative and absolute signals that we can add to the dictionary."
   ]
  },
  {
   "cell_type": "code",
   "execution_count": 45,
   "metadata": {
    "code_folding": [],
    "collapsed": false
   },
   "outputs": [],
   "source": [
    "# Which fields to place into relatives and absolutes\n",
    "relatives = [\n",
    "    '/muse/elements/alpha_relative',\n",
    "    '/muse/elements/beta_relative',\n",
    "    '/muse/elements/delta_relative', \n",
    "    '/muse/elements/gamma_relative', \n",
    "    '/muse/elements/theta_relative',\n",
    "]\n",
    "absolutes = [\n",
    "    '/muse/elements/alpha_absolute',\n",
    "    '/muse/elements/beta_absolute',\n",
    "    '/muse/elements/delta_absolute',\n",
    "    '/muse/elements/gamma_absolute',\n",
    "    '/muse/elements/theta_absolute',\n",
    "    '/muse/elements/low_freqs_absolute'\n",
    "]\n",
    "\n",
    "# Set relatives into eeg dictionary\n",
    "for elem in relatives:\n",
    "    \n",
    "    null,name = os.path.split(elem)\n",
    "    name = re.sub(r'_relative','',name)\n",
    "    \n",
    "    extract_into(eeg,['rel',name],D,elem)\n",
    "\n",
    "    \n",
    "\n",
    "# Set absolutes into eeg dictionary\n",
    "for elem in absolutes:\n",
    "    \n",
    "    null,name = os.path.split(elem)\n",
    "    name = re.sub(r'_absolute','',name)\n",
    "    \n",
    "    extract_into(eeg,['abs',name],D,elem)"
   ]
  },
  {
   "cell_type": "markdown",
   "metadata": {},
   "source": [
    "Last, the FFT should go into the `eeg` dictionary"
   ]
  },
  {
   "cell_type": "code",
   "execution_count": 46,
   "metadata": {
    "code_folding": [],
    "collapsed": false
   },
   "outputs": [
    {
     "name": "stdout",
     "output_type": "stream",
     "text": [
      "/muse/elements/raw_fft0\n",
      "/muse/elements/raw_fft1\n",
      "/muse/elements/raw_fft2\n",
      "/muse/elements/raw_fft3\n"
     ]
    }
   ],
   "source": [
    "# Prepare to store fft data\n",
    "fft = [\n",
    "    \"/muse/elements/raw_fft0\",\n",
    "    \"/muse/elements/raw_fft1\",\n",
    "    \"/muse/elements/raw_fft2\",\n",
    "    \"/muse/elements/raw_fft3\"\n",
    "]\n",
    "# Carry out normal extraction of entries\n",
    "for elem in fft:\n",
    "    \n",
    "    print(elem)\n",
    "    \n",
    "    null,name = os.path.split(elem)\n",
    "    number = re.sub(r'raw_fft','',name)\n",
    "    \n",
    "    extract_into(eeg,['fft',number],D,elem)\n",
    "\n",
    "fft = np.empty_like( eeg['fft'][ list(eeg['fft'].keys())[0] ]  )\n",
    "# Post-process, where take all separate fft entries and combine them into a 3D array\n",
    "#  Nsamples x (Ncomponents+1) x \n",
    "for key,val in eeg['fft'].items():\n",
    "    fft = np.dstack((fft, eeg['fft'][key]))\n",
    "    \n",
    "eeg['fft'] = fft[:,:,1:]"
   ]
  },
  {
   "cell_type": "markdown",
   "metadata": {},
   "source": [
    "#### Behavior\n",
    "\n",
    "First, create a behavior dictionary"
   ]
  },
  {
   "cell_type": "code",
   "execution_count": 47,
   "metadata": {
    "collapsed": true
   },
   "outputs": [],
   "source": [
    "behavior = {}"
   ]
  },
  {
   "cell_type": "markdown",
   "metadata": {},
   "source": [
    "Then, place the headband signals int that dictionary"
   ]
  },
  {
   "cell_type": "code",
   "execution_count": 48,
   "metadata": {
    "code_folding": [],
    "collapsed": false
   },
   "outputs": [],
   "source": [
    "headband = [\n",
    "    \"/muse/elements/touching_forehead\",\n",
    "    \"/muse/elements/horseshoe\",\n",
    "    \"/muse/elements/is_good\"\n",
    "]\n",
    "\n",
    "for elem in headband:\n",
    "    \n",
    "    null,name = os.path.split(elem)\n",
    "    name = re.sub(r'/muse/elements/','',name)\n",
    "    \n",
    "    extract_into(behavior,['headband',name],D,elem)"
   ]
  },
  {
   "cell_type": "markdown",
   "metadata": {},
   "source": [
    "And then, and finally, place muscle signals into behavior"
   ]
  },
  {
   "cell_type": "code",
   "execution_count": 49,
   "metadata": {
    "code_folding": [
     5
    ],
    "collapsed": false
   },
   "outputs": [],
   "source": [
    "muscle = [\n",
    "    \"/muse/elements/blink\",\n",
    "    \"/muse/elements/jaw_clench\",\n",
    "    \"/muse/acc\" # including accelorometer in the muscle signal dictionary/struct\n",
    "]\n",
    "\n",
    "for elem in muscle:\n",
    "    \n",
    "    null,name = os.path.split(elem)\n",
    "    name = re.sub(r'/muse/elements/','',name)\n",
    "    \n",
    "    extract_into(behavior,['muscle',name],D,elem)"
   ]
  },
  {
   "cell_type": "markdown",
   "metadata": {},
   "source": [
    "#### Description\n",
    "Now that data are in place, here, a description field will be appended with descriptions of the data."
   ]
  },
  {
   "cell_type": "code",
   "execution_count": 50,
   "metadata": {
    "collapsed": false
   },
   "outputs": [],
   "source": [
    "# Appending descriptions for EEG dict\n",
    "eeg['desc'] = {}\n",
    "eeg['desc']['raw'] = \"The first column indicate timestamps or time. The last two columns are DRL and REF signals that were used to reference the eeg signals present in columns 2 through end-2.\"\n",
    "eeg['desc']['abs_all'] = \"Fields for each absolute power band extracted by Muse. Absolute band power is log(sum(PSD)) of the absolute frequency range. Within each band type, indicated by the fields, the first column is the timestamp or time. Remaining columns are the power present per field.\"\n",
    "eeg['desc']['rel_all'] = \"Fields for each relative power band extracted by Muse. Relative power is gotten via first summing absolutes linear-power for a band by the sum of all linear-absolute power for all band types. Within each band type, indicated by the fields, the first column is the timestamp or time. Remaining columns are the power present per field.\"\n",
    "eeg['fft'] = \"Each page of this 3D matrix corresponds to an electrode. The first column is timestamp value. The remaining columns are fft values for that timestamp. As of this version, 129 columns with power, each 0.86hz per bin (220/256). Symmetric portion of the 256 sample removed, thus 128 bins. The last bin is 0Hz.\"\n",
    "# Appending descriptions for the behavior dict\n",
    "behavior['desc'] = {}"
   ]
  },
  {
   "cell_type": "markdown",
   "metadata": {},
   "source": [
    "# Saving Data"
   ]
  },
  {
   "cell_type": "code",
   "execution_count": 51,
   "metadata": {
    "collapsed": true
   },
   "outputs": [],
   "source": [
    "# Acquire base directory and file for all save options\n",
    "dir,file = os.path.split(cfile.value)"
   ]
  },
  {
   "cell_type": "markdown",
   "metadata": {},
   "source": [
    "## Matlab Native\n",
    "Matlab can read the pickled dictionaries above and pretty easily turn them into strings, but scipy offers a more native approach, packaing and reading from .mat files with ease."
   ]
  },
  {
   "cell_type": "code",
   "execution_count": 52,
   "metadata": {
    "collapsed": false
   },
   "outputs": [],
   "source": [
    "savestr = dir + '/' + file + '.structs.mat'\n",
    "scipy.io.savemat( savestr, {'behavior':behavior, \"eeg\":eeg} )"
   ]
  },
  {
   "cell_type": "markdown",
   "metadata": {},
   "source": [
    "## Python Native\n",
    "### Data Frame"
   ]
  },
  {
   "cell_type": "code",
   "execution_count": 53,
   "metadata": {
    "collapsed": true
   },
   "outputs": [],
   "source": [
    "if save_data_frame:\n",
    "    file,ext = os.path.splitext(file)\n",
    "    D.to_pickle(dir + '/' + file + '.pandas.pickle')"
   ]
  },
  {
   "cell_type": "markdown",
   "metadata": {},
   "source": [
    "### EEG / Behavior Dictionaries"
   ]
  },
  {
   "cell_type": "code",
   "execution_count": 54,
   "metadata": {
    "collapsed": false
   },
   "outputs": [],
   "source": [
    "behaviorstr = dir + '/' + file + '.behavior.pickle'\n",
    "pickle.dump( behavior,  open(behaviorstr,  'wb'))"
   ]
  },
  {
   "cell_type": "code",
   "execution_count": 56,
   "metadata": {
    "collapsed": false
   },
   "outputs": [],
   "source": [
    "eegstr = dir + '/' + file + '.eeg.pickle'\n",
    "pickle.dump( eeg,       open(eegstr,       'wb'))"
   ]
  }
 ],
 "metadata": {
  "anaconda-cloud": {},
  "kernelspec": {
   "display_name": "Python [Root]",
   "language": "python",
   "name": "Python [Root]"
  },
  "language_info": {
   "codemirror_mode": {
    "name": "ipython",
    "version": 3
   },
   "file_extension": ".py",
   "mimetype": "text/x-python",
   "name": "python",
   "nbconvert_exporter": "python",
   "pygments_lexer": "ipython3",
   "version": "3.5.2"
  },
  "latex_envs": {
   "bibliofile": "biblio.bib",
   "cite_by": "apalike",
   "current_citInitial": 1,
   "eqLabelWithNumbers": true,
   "eqNumInitial": 0
  },
  "nav_menu": {},
  "nbpresent": {
   "slides": {
    "07ea25d1-1b97-4d12-a8f1-365a758d22b5": {
     "id": "07ea25d1-1b97-4d12-a8f1-365a758d22b5",
     "prev": "b3132e64-77c4-4947-849a-46a63c3da544",
     "regions": {
      "a2f81302-f4d2-4a2f-9897-0d61f428bc92": {
       "attrs": {
        "height": 0.8,
        "width": 0.8,
        "x": 0.1,
        "y": 0.1
       },
       "content": {
        "cell": "a81248cb-75ad-4152-9646-bec169f54703",
        "part": "whole"
       },
       "id": "a2f81302-f4d2-4a2f-9897-0d61f428bc92"
      }
     }
    },
    "0cf1e50f-8418-4116-8970-f055980b3ea5": {
     "id": "0cf1e50f-8418-4116-8970-f055980b3ea5",
     "prev": "abe6e205-b883-43eb-a8aa-75733b87b79a",
     "regions": {
      "4b504c00-e48f-4d2e-b8a3-64a9e35c3ff5": {
       "attrs": {
        "height": 0.8,
        "width": 0.8,
        "x": 0.1,
        "y": 0.1
       },
       "content": {
        "cell": "d142df09-d05f-48e2-bd94-8e1afc16275c",
        "part": "whole"
       },
       "id": "4b504c00-e48f-4d2e-b8a3-64a9e35c3ff5"
      }
     }
    },
    "162b4fd8-2b3b-4ff1-ab70-9aff0984073b": {
     "id": "162b4fd8-2b3b-4ff1-ab70-9aff0984073b",
     "prev": "e83c0cb6-48fc-469f-a398-27bc11d5874c",
     "regions": {
      "c1ddf090-b0e9-43e6-9c42-44b5d7a7edb4": {
       "attrs": {
        "height": 0.8,
        "width": 0.8,
        "x": 0.1,
        "y": 0.1
       },
       "content": {
        "cell": "c5d0725e-a052-40fa-9d20-9bb26e0b05cf",
        "part": "whole"
       },
       "id": "c1ddf090-b0e9-43e6-9c42-44b5d7a7edb4"
      }
     }
    },
    "368e28bc-412d-4af2-8364-efeaa5da96b2": {
     "id": "368e28bc-412d-4af2-8364-efeaa5da96b2",
     "prev": "6e3280f8-762a-4fb2-9e9c-0661e59c71ab",
     "regions": {
      "924dbf81-cdf4-4a8f-a353-7b741bd7f03e": {
       "attrs": {
        "height": 0.8,
        "width": 0.8,
        "x": 0.1,
        "y": 0.1
       },
       "content": {
        "cell": "43f6252a-b007-4a78-8504-d75397a62f89",
        "part": "whole"
       },
       "id": "924dbf81-cdf4-4a8f-a353-7b741bd7f03e"
      }
     }
    },
    "41d2fd36-96e3-44e4-8e7d-2d28827d5895": {
     "id": "41d2fd36-96e3-44e4-8e7d-2d28827d5895",
     "prev": "07ea25d1-1b97-4d12-a8f1-365a758d22b5",
     "regions": {
      "914f4ea9-e626-44fb-b448-955b9072e17d": {
       "attrs": {
        "height": 0.8,
        "width": 0.8,
        "x": 0.1,
        "y": 0.1
       },
       "content": {
        "cell": "052bde9e-b661-4113-a650-479e6982b10c",
        "part": "whole"
       },
       "id": "914f4ea9-e626-44fb-b448-955b9072e17d"
      }
     }
    },
    "66d667d1-5918-416d-aa06-03a105b8fc85": {
     "id": "66d667d1-5918-416d-aa06-03a105b8fc85",
     "prev": null,
     "regions": {
      "88bf194f-c6b5-4999-81f4-09c5f2d59fb5": {
       "attrs": {
        "height": 0.8,
        "width": 0.8,
        "x": 0.1,
        "y": 0.1
       },
       "content": {
        "cell": "f161424d-402a-4cd8-9a37-7a9f17ec4ca3",
        "part": "whole"
       },
       "id": "88bf194f-c6b5-4999-81f4-09c5f2d59fb5"
      }
     }
    },
    "6e3280f8-762a-4fb2-9e9c-0661e59c71ab": {
     "id": "6e3280f8-762a-4fb2-9e9c-0661e59c71ab",
     "prev": "7a66ece6-f0bb-40a6-9bad-6a4ca947f478",
     "regions": {
      "414b408f-6ebc-4482-a2dd-44e67ca3b8f1": {
       "attrs": {
        "height": 0.8,
        "width": 0.8,
        "x": 0.1,
        "y": 0.1
       },
       "content": {
        "cell": "44224320-8706-4618-8207-a6a57a6e0df0",
        "part": "whole"
       },
       "id": "414b408f-6ebc-4482-a2dd-44e67ca3b8f1"
      }
     }
    },
    "7646a16f-e463-4dad-96b1-6ede594ff42d": {
     "id": "7646a16f-e463-4dad-96b1-6ede594ff42d",
     "prev": "b425f4c4-5360-4906-8dce-37b8cce32f43",
     "regions": {
      "1f6e42b8-e4dc-4539-9c69-7d40c1ee64ff": {
       "attrs": {
        "height": 0.8,
        "width": 0.8,
        "x": 0.1,
        "y": 0.1
       },
       "content": {
        "cell": "70817883-25a3-4ad9-abd0-4716db030dd3",
        "part": "whole"
       },
       "id": "1f6e42b8-e4dc-4539-9c69-7d40c1ee64ff"
      }
     }
    },
    "7a66ece6-f0bb-40a6-9bad-6a4ca947f478": {
     "id": "7a66ece6-f0bb-40a6-9bad-6a4ca947f478",
     "prev": "c13c7b6f-fd7f-4412-8752-1b721cac6326",
     "regions": {
      "01deb338-63e7-4ba2-b79c-7b8dbfd9df46": {
       "attrs": {
        "height": 0.8,
        "width": 0.8,
        "x": 0.1,
        "y": 0.1
       },
       "content": {
        "cell": "b27bac3f-e120-4beb-942d-737798db8d48",
        "part": "whole"
       },
       "id": "01deb338-63e7-4ba2-b79c-7b8dbfd9df46"
      }
     }
    },
    "89fb1e12-4984-4b7b-8b28-449590b2c877": {
     "id": "89fb1e12-4984-4b7b-8b28-449590b2c877",
     "prev": "f37e67f4-e192-45cf-8b4c-3740b04458fb",
     "regions": {
      "22a1a520-248b-4f58-beb6-0588e47cd03d": {
       "attrs": {
        "height": 0.8,
        "width": 0.8,
        "x": 0.1,
        "y": 0.1
       },
       "content": {
        "cell": "bb3ce0d6-24f0-4bcf-956a-faeed24194f0",
        "part": "whole"
       },
       "id": "22a1a520-248b-4f58-beb6-0588e47cd03d"
      }
     }
    },
    "942f7b3d-83d3-44d6-afda-25aa3f1a281d": {
     "id": "942f7b3d-83d3-44d6-afda-25aa3f1a281d",
     "prev": "7646a16f-e463-4dad-96b1-6ede594ff42d",
     "regions": {
      "301abee0-72e4-425d-ad90-33d0d1379b44": {
       "attrs": {
        "height": 0.8,
        "width": 0.8,
        "x": 0.1,
        "y": 0.1
       },
       "content": {
        "cell": "b7ca2a9d-364f-4f42-97f6-41e60ae53c67",
        "part": "whole"
       },
       "id": "301abee0-72e4-425d-ad90-33d0d1379b44"
      }
     }
    },
    "a825cb10-7798-45e9-bb7e-8761d68b940c": {
     "id": "a825cb10-7798-45e9-bb7e-8761d68b940c",
     "prev": "942f7b3d-83d3-44d6-afda-25aa3f1a281d",
     "regions": {
      "77592827-3881-44ca-9568-3b4ed6005a01": {
       "attrs": {
        "height": 0.8,
        "width": 0.8,
        "x": 0.1,
        "y": 0.1
       },
       "content": {
        "cell": "6cd6e617-3ea9-4eac-a0e7-391013e1a850",
        "part": "whole"
       },
       "id": "77592827-3881-44ca-9568-3b4ed6005a01"
      }
     }
    },
    "abe6e205-b883-43eb-a8aa-75733b87b79a": {
     "id": "abe6e205-b883-43eb-a8aa-75733b87b79a",
     "prev": "66d667d1-5918-416d-aa06-03a105b8fc85",
     "regions": {
      "f45d1dbe-3b97-4fd9-b39e-67c4fbfdb5f0": {
       "attrs": {
        "height": 0.8,
        "width": 0.8,
        "x": 0.1,
        "y": 0.1
       },
       "content": {
        "cell": "cd747b01-63a4-4408-b4d5-f490865423a5",
        "part": "whole"
       },
       "id": "f45d1dbe-3b97-4fd9-b39e-67c4fbfdb5f0"
      }
     }
    },
    "aee231bc-134e-4c29-8989-26140b7b1ca8": {
     "id": "aee231bc-134e-4c29-8989-26140b7b1ca8",
     "prev": "0cf1e50f-8418-4116-8970-f055980b3ea5",
     "regions": {
      "c58389ba-9814-462b-be67-f850a1a58bf3": {
       "attrs": {
        "height": 0.8,
        "width": 0.8,
        "x": 0.1,
        "y": 0.1
       },
       "content": {
        "cell": "9850744f-b57a-45b8-9ca4-84e666304cc9",
        "part": "whole"
       },
       "id": "c58389ba-9814-462b-be67-f850a1a58bf3"
      }
     }
    },
    "b3132e64-77c4-4947-849a-46a63c3da544": {
     "id": "b3132e64-77c4-4947-849a-46a63c3da544",
     "prev": "bc7c941d-3cb9-47cc-95e9-766e5676c597",
     "regions": {
      "b8ed1c14-957a-4bd6-96ba-a6e32a2d6cfb": {
       "attrs": {
        "height": 0.8,
        "width": 0.8,
        "x": 0.1,
        "y": 0.1
       },
       "content": {
        "cell": "87243b9c-6685-4e40-be52-4786944fcc6d",
        "part": "whole"
       },
       "id": "b8ed1c14-957a-4bd6-96ba-a6e32a2d6cfb"
      }
     }
    },
    "b425f4c4-5360-4906-8dce-37b8cce32f43": {
     "id": "b425f4c4-5360-4906-8dce-37b8cce32f43",
     "prev": "aee231bc-134e-4c29-8989-26140b7b1ca8",
     "regions": {
      "402b0abb-e826-4087-92c6-e5a12751ede4": {
       "attrs": {
        "height": 0.8,
        "width": 0.8,
        "x": 0.1,
        "y": 0.1
       },
       "content": {
        "cell": "b8bebee6-68b2-4a98-89d3-37539d7fb44a",
        "part": "whole"
       },
       "id": "402b0abb-e826-4087-92c6-e5a12751ede4"
      }
     }
    },
    "bc7c941d-3cb9-47cc-95e9-766e5676c597": {
     "id": "bc7c941d-3cb9-47cc-95e9-766e5676c597",
     "prev": "368e28bc-412d-4af2-8364-efeaa5da96b2",
     "regions": {
      "6f0a7e33-f687-4021-840d-82fae0011fe7": {
       "attrs": {
        "height": 0.8,
        "width": 0.8,
        "x": 0.1,
        "y": 0.1
       },
       "content": {
        "cell": "3dd1f519-093d-4d01-b10f-7a5e6c1c7a6c",
        "part": "whole"
       },
       "id": "6f0a7e33-f687-4021-840d-82fae0011fe7"
      }
     }
    },
    "c13c7b6f-fd7f-4412-8752-1b721cac6326": {
     "id": "c13c7b6f-fd7f-4412-8752-1b721cac6326",
     "prev": "a825cb10-7798-45e9-bb7e-8761d68b940c",
     "regions": {
      "afafa7fb-c53d-42d2-927f-0cc8f546caef": {
       "attrs": {
        "height": 0.8,
        "width": 0.8,
        "x": 0.1,
        "y": 0.1
       },
       "content": {
        "cell": "899c18f5-cc31-4e68-844b-177f6d4cf0ae",
        "part": "whole"
       },
       "id": "afafa7fb-c53d-42d2-927f-0cc8f546caef"
      }
     }
    },
    "e6b135f2-159f-438b-b005-aceb3cab5573": {
     "id": "e6b135f2-159f-438b-b005-aceb3cab5573",
     "prev": "89fb1e12-4984-4b7b-8b28-449590b2c877",
     "regions": {
      "fa3843bd-3173-4ea4-892a-a04f5d23a59a": {
       "attrs": {
        "height": 0.8,
        "width": 0.8,
        "x": 0.1,
        "y": 0.1
       },
       "content": {
        "cell": "9c8c7c81-26b5-40c6-9aa9-2c66166084d5",
        "part": "whole"
       },
       "id": "fa3843bd-3173-4ea4-892a-a04f5d23a59a"
      }
     }
    },
    "e83c0cb6-48fc-469f-a398-27bc11d5874c": {
     "id": "e83c0cb6-48fc-469f-a398-27bc11d5874c",
     "prev": "41d2fd36-96e3-44e4-8e7d-2d28827d5895",
     "regions": {
      "967de7c0-5088-4828-89b8-4d1c67662aa4": {
       "attrs": {
        "height": 0.8,
        "width": 0.8,
        "x": 0.1,
        "y": 0.1
       },
       "content": {
        "cell": "c3773c12-56e8-473f-8bcb-f34b90382186",
        "part": "whole"
       },
       "id": "967de7c0-5088-4828-89b8-4d1c67662aa4"
      }
     }
    },
    "f37e67f4-e192-45cf-8b4c-3740b04458fb": {
     "id": "f37e67f4-e192-45cf-8b4c-3740b04458fb",
     "prev": "162b4fd8-2b3b-4ff1-ab70-9aff0984073b",
     "regions": {
      "6b7bea3a-c011-4629-b426-11314ded372a": {
       "attrs": {
        "height": 0.8,
        "width": 0.8,
        "x": 0.1,
        "y": 0.1
       },
       "content": {
        "cell": "64350836-e90f-4caf-87bb-fb355c69803c",
        "part": "whole"
       },
       "id": "6b7bea3a-c011-4629-b426-11314ded372a"
      }
     }
    }
   },
   "themes": {}
  },
  "toc": {
   "navigate_menu": true,
   "number_sections": true,
   "sideBar": true,
   "threshold": 6,
   "toc_cell": true,
   "toc_section_display": "block",
   "toc_window_display": false
  }
 },
 "nbformat": 4,
 "nbformat_minor": 0
}
